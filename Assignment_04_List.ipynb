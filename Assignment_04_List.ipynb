{
 "cells": [
  {
   "cell_type": "markdown",
   "id": "6852e84d",
   "metadata": {},
   "source": [
    "### Problem 1\n",
    "Accept a list from user and print alternate elements."
   ]
  },
  {
   "cell_type": "code",
   "execution_count": null,
   "id": "cb188f99",
   "metadata": {},
   "outputs": [],
   "source": [
    "\n",
    "def alternate_elements(lst):\n",
    "    return lst[::2]\n",
    "\n",
    "# Example usage:\n",
    "user_list = [1, 2, 3, 4, 5, 6, 7]\n",
    "print(\"Alternate elements:\", alternate_elements(user_list))\n"
   ]
  },
  {
   "cell_type": "markdown",
   "id": "f8ffc132",
   "metadata": {},
   "source": [
    "### Problem 2\n",
    "Reverse a list without using reverse()."
   ]
  },
  {
   "cell_type": "code",
   "execution_count": null,
   "id": "f4c017d1",
   "metadata": {},
   "outputs": [],
   "source": [
    "\n",
    "def reverse_list(lst):\n",
    "    return lst[::-1]\n",
    "\n",
    "# Example usage:\n",
    "user_list = [10, 20, 30, 40, 50]\n",
    "print(\"Reversed list:\", reverse_list(user_list))\n"
   ]
  },
  {
   "cell_type": "markdown",
   "id": "3019c3f8",
   "metadata": {},
   "source": [
    "### Problem 3\n",
    "Find the largest number in a list without using max()."
   ]
  },
  {
   "cell_type": "code",
   "execution_count": null,
   "id": "fd32dbf0",
   "metadata": {},
   "outputs": [],
   "source": [
    "\n",
    "def find_largest(lst):\n",
    "    largest = lst[0]\n",
    "    for num in lst:\n",
    "        if num > largest:\n",
    "            largest = num\n",
    "    return largest\n",
    "\n",
    "# Example usage:\n",
    "user_list = [12, 45, 23, 89, 34]\n",
    "print(\"Largest number:\", find_largest(user_list))\n"
   ]
  },
  {
   "cell_type": "markdown",
   "id": "aa6b78a3",
   "metadata": {},
   "source": [
    "### Problem 4\n",
    "Rotate list elements."
   ]
  },
  {
   "cell_type": "code",
   "execution_count": null,
   "id": "317f2c48",
   "metadata": {},
   "outputs": [],
   "source": [
    "\n",
    "def rotate_list(lst):\n",
    "    if not lst:\n",
    "        return lst\n",
    "    return [lst[-1]] + lst[:-1]\n",
    "\n",
    "# Example usage:\n",
    "user_list = [1, 2, 3, 4, 5]\n",
    "print(\"Rotated list:\", rotate_list(user_list))\n"
   ]
  },
  {
   "cell_type": "markdown",
   "id": "d1ce3068",
   "metadata": {},
   "source": [
    "### Problem 5\n",
    "Delete a given word from a string."
   ]
  },
  {
   "cell_type": "code",
   "execution_count": null,
   "id": "e4626b1c",
   "metadata": {},
   "outputs": [],
   "source": [
    "\n",
    "def delete_word(sentence, word):\n",
    "    words = sentence.split()\n",
    "    new_sentence = \" \".join(w for w in words if w != word)\n",
    "    return new_sentence\n",
    "\n",
    "# Example usage:\n",
    "sentence = \"Python is a powerful programming language\"\n",
    "word = \"powerful\"\n",
    "print(\"New string:\", delete_word(sentence, word))\n"
   ]
  },
  {
   "cell_type": "markdown",
   "id": "03c7fbed",
   "metadata": {},
   "source": [
    "### Problem 6\n",
    "Convert mm/dd/yyyy to 'Month dd, yyyy'."
   ]
  },
  {
   "cell_type": "code",
   "execution_count": null,
   "id": "aa24a955",
   "metadata": {},
   "outputs": [],
   "source": [
    "\n",
    "import calendar\n",
    "\n",
    "def convert_date(date_str):\n",
    "    mm, dd, yyyy = date_str.split(\"/\")\n",
    "    month = calendar.month_name[int(mm)]\n",
    "    return f\"{month} {int(dd)}, {yyyy}\"\n",
    "\n",
    "# Example usage:\n",
    "date_input = \"03/12/2021\"\n",
    "print(\"Formatted date:\", convert_date(date_input))\n"
   ]
  },
  {
   "cell_type": "markdown",
   "id": "a724da55",
   "metadata": {},
   "source": [
    "### Problem 7\n",
    "Capitalize each word of a string."
   ]
  },
  {
   "cell_type": "code",
   "execution_count": null,
   "id": "ce17decf",
   "metadata": {},
   "outputs": [],
   "source": [
    "\n",
    "def capitalize_words(s):\n",
    "    result = \"\"\n",
    "    capitalize_next = True\n",
    "    for char in s:\n",
    "        if capitalize_next and char.isalpha():\n",
    "            result += char.upper()\n",
    "            capitalize_next = False\n",
    "        else:\n",
    "            result += char.lower()\n",
    "        if char == \" \":\n",
    "            capitalize_next = True\n",
    "    return result\n",
    "\n",
    "# Example usage:\n",
    "sentence = \"stop and smell the roses.\"\n",
    "print(\"Capitalized:\", capitalize_words(sentence))\n"
   ]
  },
  {
   "cell_type": "markdown",
   "id": "83fd4600",
   "metadata": {},
   "source": [
    "### Problem 8\n",
    "Find sum of each row in a matrix."
   ]
  },
  {
   "cell_type": "code",
   "execution_count": null,
   "id": "01a72015",
   "metadata": {},
   "outputs": [],
   "source": [
    "\n",
    "def row_sums(matrix):\n",
    "    for i, row in enumerate(matrix, start=1):\n",
    "        print(f\"Sum of row {i} =\", sum(row))\n",
    "\n",
    "# Example usage:\n",
    "matrix = [\n",
    "    [10, 11, 11],\n",
    "    [12, 9, 10],\n",
    "    [21, 21, 21]\n",
    "]\n",
    "row_sums(matrix)\n"
   ]
  },
  {
   "cell_type": "markdown",
   "id": "4d509811",
   "metadata": {},
   "source": [
    "### Problem 9\n",
    "Add two matrices."
   ]
  },
  {
   "cell_type": "code",
   "execution_count": null,
   "id": "d7a0342e",
   "metadata": {},
   "outputs": [],
   "source": [
    "\n",
    "def add_matrices(a, b):\n",
    "    result = [[a[i][j] + b[i][j] for j in range(len(a[0]))] for i in range(len(a))]\n",
    "    return result\n",
    "\n",
    "# Example usage:\n",
    "A = [[1, 2], [3, 4]]\n",
    "B = [[5, 6], [7, 8]]\n",
    "print(\"Matrix Addition:\")\n",
    "for row in add_matrices(A, B):\n",
    "    print(row)\n"
   ]
  },
  {
   "cell_type": "markdown",
   "id": "3546d0d1",
   "metadata": {},
   "source": [
    "### Problem 10\n",
    "Multiply two matrices."
   ]
  },
  {
   "cell_type": "code",
   "execution_count": null,
   "id": "61f52321",
   "metadata": {},
   "outputs": [],
   "source": [
    "\n",
    "def multiply_matrices(a, b):\n",
    "    result = [[0 for _ in range(len(b[0]))] for _ in range(len(a))]\n",
    "    for i in range(len(a)):\n",
    "        for j in range(len(b[0])):\n",
    "            for k in range(len(b)):\n",
    "                result[i][j] += a[i][k] * b[k][j]\n",
    "    return result\n",
    "\n",
    "# Example usage:\n",
    "A = [[1, 2], [3, 4]]\n",
    "B = [[5, 6], [7, 8]]\n",
    "print(\"Matrix Multiplication:\")\n",
    "for row in multiply_matrices(A, B):\n",
    "    print(row)\n"
   ]
  }
 ],
 "metadata": {},
 "nbformat": 4,
 "nbformat_minor": 5
}