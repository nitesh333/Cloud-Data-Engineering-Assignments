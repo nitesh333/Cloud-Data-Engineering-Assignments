{
 "cells": [
  {
   "cell_type": "markdown",
   "id": "956936a0",
   "metadata": {},
   "source": [
    "# Assignment 02 (Conditional Statements) — Complete Solutions\n",
    "This notebook contains Python solutions to all problems from Assignment 02.\n",
    "\n",
    "Each problem includes explanation and code implementation."
   ]
  },
  {
   "cell_type": "markdown",
   "id": "c8f00dbf",
   "metadata": {},
   "source": [
    "## 1) Check if a number is positive, negative, or zero"
   ]
  },
  {
   "cell_type": "code",
   "execution_count": null,
   "id": "376ddc1d",
   "metadata": {},
   "outputs": [],
   "source": [
    "# Takes a number as input and checks whether it's positive, negative, or zero\n",
    "try:\n",
    "    num = float(input(\"Enter a number: \"))\n",
    "    if num > 0:\n",
    "        print(\"The number is positive.\")\n",
    "    elif num < 0:\n",
    "        print(\"The number is negative.\")\n",
    "    else:\n",
    "        print(\"The number is zero.\")\n",
    "except ValueError:\n",
    "    print(\"Invalid input! Please enter a number.\")"
   ]
  },
  {
   "cell_type": "markdown",
   "id": "26d1c360",
   "metadata": {},
   "source": [
    "## 2) Check if a number is even or odd"
   ]
  },
  {
   "cell_type": "code",
   "execution_count": null,
   "id": "2420ef2d",
   "metadata": {},
   "outputs": [],
   "source": [
    "# Takes an integer as input and checks whether it's even or odd\n",
    "try:\n",
    "    num = int(input(\"Enter an integer: \"))\n",
    "    if num % 2 == 0:\n",
    "        print(\"The number is even.\")\n",
    "    else:\n",
    "        print(\"The number is odd.\")\n",
    "except ValueError:\n",
    "    print(\"Invalid input! Please enter an integer.\")"
   ]
  },
  {
   "cell_type": "markdown",
   "id": "c1f8589a",
   "metadata": {},
   "source": [
    "## 3) Find the largest of two numbers"
   ]
  },
  {
   "cell_type": "code",
   "execution_count": null,
   "id": "554f436f",
   "metadata": {},
   "outputs": [],
   "source": [
    "# Takes two numbers and finds the larger one\n",
    "try:\n",
    "    a = float(input(\"Enter first number: \"))\n",
    "    b = float(input(\"Enter second number: \"))\n",
    "    if a > b:\n",
    "        print(f\"The largest number is {a}\")\n",
    "    elif b > a:\n",
    "        print(f\"The largest number is {b}\")\n",
    "    else:\n",
    "        print(\"Both numbers are equal.\")\n",
    "except ValueError:\n",
    "    print(\"Invalid input! Please enter valid numbers.\")"
   ]
  },
  {
   "cell_type": "markdown",
   "id": "95aa75fd",
   "metadata": {},
   "source": [
    "## 4) Find the largest of three numbers"
   ]
  },
  {
   "cell_type": "code",
   "execution_count": null,
   "id": "7c8edf92",
   "metadata": {},
   "outputs": [],
   "source": [
    "# Takes three numbers and finds the largest\n",
    "try:\n",
    "    a = float(input(\"Enter first number: \"))\n",
    "    b = float(input(\"Enter second number: \"))\n",
    "    c = float(input(\"Enter third number: \"))\n",
    "    if a >= b and a >= c:\n",
    "        print(f\"The largest number is {a}\")\n",
    "    elif b >= a and b >= c:\n",
    "        print(f\"The largest number is {b}\")\n",
    "    else:\n",
    "        print(f\"The largest number is {c}\")\n",
    "except ValueError:\n",
    "    print(\"Invalid input! Please enter valid numbers.\")"
   ]
  },
  {
   "cell_type": "markdown",
   "id": "7958fc59",
   "metadata": {},
   "source": [
    "## 5) Check if a year is a leap year"
   ]
  },
  {
   "cell_type": "code",
   "execution_count": null,
   "id": "5ba24f7e",
   "metadata": {},
   "outputs": [],
   "source": [
    "# Takes a year and checks whether it's a leap year\n",
    "try:\n",
    "    year = int(input(\"Enter a year: \"))\n",
    "    if (year % 400 == 0) or (year % 4 == 0 and year % 100 != 0):\n",
    "        print(f\"{year} is a leap year.\")\n",
    "    else:\n",
    "        print(f\"{year} is not a leap year.\")\n",
    "except ValueError:\n",
    "    print(\"Invalid input! Please enter a valid year.\")"
   ]
  },
  {
   "cell_type": "markdown",
   "id": "cf8e431b",
   "metadata": {},
   "source": [
    "## 6) Display grade based on marks"
   ]
  },
  {
   "cell_type": "code",
   "execution_count": null,
   "id": "d2b6f490",
   "metadata": {},
   "outputs": [],
   "source": [
    "# Takes marks and displays grade according to conditions\n",
    "try:\n",
    "    marks = float(input(\"Enter marks (0-100): \"))\n",
    "    if marks >= 90:\n",
    "        print(\"Grade: A\")\n",
    "    elif marks >= 80:\n",
    "        print(\"Grade: B\")\n",
    "    elif marks >= 70:\n",
    "        print(\"Grade: C\")\n",
    "    elif marks >= 60:\n",
    "        print(\"Grade: D\")\n",
    "    else:\n",
    "        print(\"Grade: F\")\n",
    "except ValueError:\n",
    "    print(\"Invalid input! Please enter valid marks.\")"
   ]
  },
  {
   "cell_type": "markdown",
   "id": "a50be2e6",
   "metadata": {},
   "source": [
    "## 7) Simple Calculator (+, -, *, /)"
   ]
  },
  {
   "cell_type": "code",
   "execution_count": null,
   "id": "85b195c7",
   "metadata": {},
   "outputs": [],
   "source": [
    "# Performs basic arithmetic operations based on user choice\n",
    "try:\n",
    "    a = float(input(\"Enter first number: \"))\n",
    "    b = float(input(\"Enter second number: \"))\n",
    "    op = input(\"Enter operation (+, -, *, /): \")\n",
    "    \n",
    "    if op == '+':\n",
    "        print(f\"Result: {a + b}\")\n",
    "    elif op == '-':\n",
    "        print(f\"Result: {a - b}\")\n",
    "    elif op == '*':\n",
    "        print(f\"Result: {a * b}\")\n",
    "    elif op == '/':\n",
    "        if b != 0:\n",
    "            print(f\"Result: {a / b}\")\n",
    "        else:\n",
    "            print(\"Error: Division by zero\")\n",
    "    else:\n",
    "        print(\"Invalid operation\")\n",
    "except ValueError:\n",
    "    print(\"Invalid input! Please enter numbers.\")"
   ]
  },
  {
   "cell_type": "markdown",
   "id": "38651691",
   "metadata": {},
   "source": [
    "## 8) Check if a character is vowel or consonant"
   ]
  },
  {
   "cell_type": "code",
   "execution_count": null,
   "id": "c7a21389",
   "metadata": {},
   "outputs": [],
   "source": [
    "# Takes a character and checks if it's a vowel or consonant\n",
    "ch = input(\"Enter a single alphabet character: \").lower()\n",
    "if len(ch) == 1 and ch.isalpha():\n",
    "    if ch in 'aeiou':\n",
    "        print(f\"{ch} is a vowel.\")\n",
    "    else:\n",
    "        print(f\"{ch} is a consonant.\")\n",
    "else:\n",
    "    print(\"Invalid input! Please enter a single alphabet character.\")"
   ]
  },
  {
   "cell_type": "markdown",
   "id": "84995413",
   "metadata": {},
   "source": [
    "## 9) Find the absolute value of a number"
   ]
  },
  {
   "cell_type": "code",
   "execution_count": null,
   "id": "271069f7",
   "metadata": {},
   "outputs": [],
   "source": [
    "# Computes absolute value without using abs()\n",
    "try:\n",
    "    num = float(input(\"Enter a number: \"))\n",
    "    if num < 0:\n",
    "        print(f\"Absolute value: {-num}\")\n",
    "    else:\n",
    "        print(f\"Absolute value: {num}\")\n",
    "except ValueError:\n",
    "    print(\"Invalid input! Please enter a number.\")"
   ]
  },
  {
   "cell_type": "markdown",
   "id": "4698cb92",
   "metadata": {},
   "source": [
    "## 10) Calculate electricity bill"
   ]
  },
  {
   "cell_type": "code",
   "execution_count": null,
   "id": "0ef46b53",
   "metadata": {},
   "outputs": [],
   "source": [
    "# Bill calculation based on units consumed\n",
    "try:\n",
    "    units = float(input(\"Enter number of units consumed: \"))\n",
    "    if units <= 100:\n",
    "        bill = units * 5\n",
    "    elif units <= 200:\n",
    "        bill = 100*5 + (units-100)*7\n",
    "    else:\n",
    "        bill = 100*5 + 100*7 + (units-200)*10\n",
    "    print(f\"Electricity Bill: Rs. {bill}\")\n",
    "except ValueError:\n",
    "    print(\"Invalid input! Please enter valid units.\")"
   ]
  }
 ],
 "metadata": {},
 "nbformat": 4,
 "nbformat_minor": 5
}
