{
 "cells": [
  {
   "cell_type": "markdown",
   "id": "651b8f5a-2489-418d-b633-6f12610d1ad5",
   "metadata": {},
   "source": [
    "1 Write a python program to create a class representing a circle . include method to calculate its area and perameter"
   ]
  },
  {
   "cell_type": "code",
   "execution_count": 7,
   "id": "abcd0e6b-7b1d-4fa2-b37f-dfdae7b1edb5",
   "metadata": {},
   "outputs": [
    {
     "name": "stdin",
     "output_type": "stream",
     "text": [
      "Enter the radius of the circle:  21\n"
     ]
    },
    {
     "name": "stdout",
     "output_type": "stream",
     "text": [
      "\n",
      "Circle with radius 21.0\n",
      "-----------X--------------------\n",
      "Area      : 1385.4423602330987\n",
      "Perimeter : 131.94689145077132\n"
     ]
    }
   ],
   "source": [
    "import math\n",
    "\n",
    "class Circle:\n",
    "    def __init__(self, radius):\n",
    "        self.radius = radius\n",
    "\n",
    "    def area(self):\n",
    "        return math.pi * self.radius ** 2\n",
    "\n",
    "    def perimeter(self):\n",
    "        return 2 * math.pi * self.radius\n",
    "\n",
    "\n",
    "radius= float(input(\"Enter the radius of the circle: \"))\n",
    "\n",
    "c = Circle(radius)\n",
    "\n",
    "\n",
    "print(f\"\\nCircle with radius {c.radius}\")\n",
    "print(\"-----------X--------------------\")\n",
    "print(f\"Area      : {c.area()}\")\n",
    "print(f\"Perimeter : {c.perimeter()}\")\n"
   ]
  },
  {
   "cell_type": "markdown",
   "id": "536e75fc-c1e5-4a35-bc74-b8c7a7cac561",
   "metadata": {},
   "source": [
    "2 - write a python program to create a person class . include attributes like name country and date of birth . implement a method to determine the persons age "
   ]
  },
  {
   "cell_type": "code",
   "execution_count": 9,
   "id": "e8ea7890-854c-47e0-8190-e0f122700026",
   "metadata": {},
   "outputs": [
    {
     "name": "stdin",
     "output_type": "stream",
     "text": [
      "Enter name:  naveed\n",
      "Enter country:  pakistan\n",
      "Enter DOB (YYYY MM DD):  2004 05 21\n"
     ]
    },
    {
     "name": "stdout",
     "output_type": "stream",
     "text": [
      "\n",
      "Name: naveed\n",
      "Country: pakistan\n",
      "Age: 21 years\n"
     ]
    }
   ],
   "source": [
    "from datetime import date\n",
    "\n",
    "class Person:\n",
    "    def __init__(self, name, country, year, month, day):\n",
    "        self.name = name\n",
    "        self.country = country\n",
    "        self.dob = date(year, month, day)\n",
    "\n",
    "    def age(self):\n",
    "        today = date.today()\n",
    "        return today.year - self.dob.year - ((today.month, today.day) < (self.dob.month, self.dob.day))\n",
    "\n",
    "name = input(\"Enter name: \")\n",
    "country = input(\"Enter country: \")\n",
    "y, m, d = map(int, input(\"Enter DOB (YYYY MM DD): \").split())\n",
    "\n",
    "p = Person(name, country, y, m, d)\n",
    "print(f\"\\nName: {p.name}\")\n",
    "print(f\"Country: {p.country}\")\n",
    "print(f\"Age: {p.age()} years\")\n"
   ]
  },
  {
   "cell_type": "markdown",
   "id": "01aff0fe-fe79-4653-9c52-d7806373ca41",
   "metadata": {},
   "source": [
    "3 write a python program to create a calculator class . include methods for basic arithemic operations "
   ]
  },
  {
   "cell_type": "code",
   "execution_count": 5,
   "id": "98ed46cb-c7a9-47c4-90d6-4f066bf8dd89",
   "metadata": {},
   "outputs": [
    {
     "name": "stdin",
     "output_type": "stream",
     "text": [
      "Enter first number:  21\n",
      "Enter second number:  20\n"
     ]
    },
    {
     "name": "stdout",
     "output_type": "stream",
     "text": [
      "\n",
      "Results:\n",
      "21.0 + 20.0 = 41.0\n",
      "21.0 - 20.0 = 1.0\n",
      "21.0 * 20.0 = 420.0\n",
      "21.0 / 20.0 = 1.05\n"
     ]
    }
   ],
   "source": [
    "class Calculator:\n",
    "    def add(self, a, b):\n",
    "        return a + b\n",
    "\n",
    "    def subtract(self, a, b):\n",
    "        return a - b\n",
    "\n",
    "    def multiply(self, a, b):\n",
    "        return a * b\n",
    "\n",
    "    def divide(self, a, b):\n",
    "        if b != 0:\n",
    "            return a / b\n",
    "        else:\n",
    "            return \"Error! Division by zero.\"\n",
    "\n",
    "\n",
    "calc = Calculator()\n",
    "\n",
    "x = float(input(\"Enter first number: \"))\n",
    "y = float(input(\"Enter second number: \"))\n",
    "\n",
    "print(\"\\nResults:\")\n",
    "print(f\"{x} + {y} = {calc.add(x, y)}\")\n",
    "print(f\"{x} - {y} = {calc.subtract(x, y)}\")\n",
    "print(f\"{x} * {y} = {calc.multiply(x, y)}\")\n",
    "print(f\"{x} / {y} = {calc.divide(x, y)}\")\n"
   ]
  },
  {
   "cell_type": "code",
   "execution_count": null,
   "id": "3b4a9b14-107f-489a-8ed0-ff7757292dae",
   "metadata": {},
   "outputs": [],
   "source": []
  }
 ],
 "metadata": {
  "kernelspec": {
   "display_name": "Python 3 (ipykernel)",
   "language": "python",
   "name": "python3"
  },
  "language_info": {
   "codemirror_mode": {
    "name": "ipython",
    "version": 3
   },
   "file_extension": ".py",
   "mimetype": "text/x-python",
   "name": "python",
   "nbconvert_exporter": "python",
   "pygments_lexer": "ipython3",
   "version": "3.12.7"
  }
 },
 "nbformat": 4,
 "nbformat_minor": 5
}
