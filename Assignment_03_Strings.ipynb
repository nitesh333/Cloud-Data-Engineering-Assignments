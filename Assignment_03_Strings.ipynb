{
 "cells": [
  {
   "cell_type": "markdown",
   "id": "bc814bf3",
   "metadata": {},
   "source": [
    "### Problem 1\n",
    "Write a program that accepts a string from user and counts the number of vowels."
   ]
  },
  {
   "cell_type": "code",
   "execution_count": null,
   "id": "229d3cca",
   "metadata": {},
   "outputs": [],
   "source": [
    "\n",
    "def count_vowels(s):\n",
    "    vowels = \"aeiouAEIOU\"\n",
    "    count = sum(1 for char in s if char in vowels)\n",
    "    return count\n",
    "\n",
    "# Example usage:\n",
    "user_input = \"Hello World\"\n",
    "print(\"Number of vowels:\", count_vowels(user_input))\n"
   ]
  },
  {
   "cell_type": "markdown",
   "id": "362adb70",
   "metadata": {},
   "source": [
    "### Problem 2\n",
    "Write a program that displays the number of uppercase, lowercase, digits, and whitespaces."
   ]
  },
  {
   "cell_type": "code",
   "execution_count": null,
   "id": "2b81835c",
   "metadata": {},
   "outputs": [],
   "source": [
    "\n",
    "def analyze_string(s):\n",
    "    upper = sum(1 for char in s if char.isupper())\n",
    "    lower = sum(1 for char in s if char.islower())\n",
    "    digits = sum(1 for char in s if char.isdigit())\n",
    "    spaces = sum(1 for char in s if char.isspace())\n",
    "    return upper, lower, digits, spaces\n",
    "\n",
    "# Example usage:\n",
    "user_input = \"Hello World 123\"\n",
    "upper, lower, digits, spaces = analyze_string(user_input)\n",
    "print(\"Uppercase:\", upper)\n",
    "print(\"Lowercase:\", lower)\n",
    "print(\"Digits:\", digits)\n",
    "print(\"Whitespaces:\", spaces)\n"
   ]
  },
  {
   "cell_type": "markdown",
   "id": "e851038a",
   "metadata": {},
   "source": [
    "### Problem 3\n",
    "Exchange first and last characters of a string."
   ]
  },
  {
   "cell_type": "code",
   "execution_count": null,
   "id": "772e563c",
   "metadata": {},
   "outputs": [],
   "source": [
    "\n",
    "def exchange_first_last(s):\n",
    "    if len(s) <= 1:\n",
    "        return s\n",
    "    return s[-1] + s[1:-1] + s[0]\n",
    "\n",
    "# Example usage:\n",
    "user_input = \"HELLO\"\n",
    "print(\"New string:\", exchange_first_last(user_input))\n"
   ]
  },
  {
   "cell_type": "markdown",
   "id": "2e515a29",
   "metadata": {},
   "source": [
    "### Problem 4\n",
    "Reverse a string."
   ]
  },
  {
   "cell_type": "code",
   "execution_count": null,
   "id": "c17cd9d3",
   "metadata": {},
   "outputs": [],
   "source": [
    "\n",
    "def reverse_string(s):\n",
    "    return s[::-1]\n",
    "\n",
    "# Example usage:\n",
    "user_input = \"EXAM\"\n",
    "print(\"Reversed string:\", reverse_string(user_input))\n"
   ]
  },
  {
   "cell_type": "markdown",
   "id": "7df60527",
   "metadata": {},
   "source": [
    "### Problem 5\n",
    "Shift string left by one position."
   ]
  },
  {
   "cell_type": "code",
   "execution_count": null,
   "id": "6b2baba7",
   "metadata": {},
   "outputs": [],
   "source": [
    "\n",
    "def shift_left(s):\n",
    "    if len(s) <= 1:\n",
    "        return s\n",
    "    return s[1:] + s[0]\n",
    "\n",
    "# Example usage:\n",
    "user_input = \"examination 2021\"\n",
    "print(\"Shifted string:\", shift_left(user_input))\n"
   ]
  },
  {
   "cell_type": "markdown",
   "id": "e837f6a5",
   "metadata": {},
   "source": [
    "### Problem 6\n",
    "Print initials without using split()."
   ]
  },
  {
   "cell_type": "code",
   "execution_count": null,
   "id": "c77c53f6",
   "metadata": {},
   "outputs": [],
   "source": [
    "\n",
    "def print_initials(name):\n",
    "    initials = \"\"\n",
    "    if name:\n",
    "        initials += name[0].upper() + \". \"\n",
    "    for i in range(1, len(name)):\n",
    "        if name[i-1] == \" \" and name[i] != \" \":\n",
    "            initials += name[i].upper() + \". \"\n",
    "    return initials.strip()\n",
    "\n",
    "# Example usage:\n",
    "user_input = \"Ajay Kumar Garg\"\n",
    "print(\"Initials:\", print_initials(user_input))\n"
   ]
  },
  {
   "cell_type": "markdown",
   "id": "fc216f39",
   "metadata": {},
   "source": [
    "### Problem 7\n",
    "Check if a string is a palindrome."
   ]
  },
  {
   "cell_type": "code",
   "execution_count": null,
   "id": "aa2a0468",
   "metadata": {},
   "outputs": [],
   "source": [
    "\n",
    "def is_palindrome(s):\n",
    "    return s == s[::-1]\n",
    "\n",
    "# Example usage:\n",
    "user_input = \"madam\"\n",
    "print(\"Is palindrome:\", is_palindrome(user_input))\n"
   ]
  },
  {
   "cell_type": "markdown",
   "id": "b9edbedb",
   "metadata": {},
   "source": [
    "### Problem 8\n",
    "Display the given shifting pattern."
   ]
  },
  {
   "cell_type": "code",
   "execution_count": null,
   "id": "c502eff7",
   "metadata": {},
   "outputs": [],
   "source": [
    "\n",
    "def display_shift_pattern(word):\n",
    "    for i in range(len(word)):\n",
    "        shifted = word[i:] + word[:i]\n",
    "        print(shifted)\n",
    "\n",
    "# Example usage:\n",
    "display_shift_pattern(\"SHIFT\")\n"
   ]
  },
  {
   "cell_type": "markdown",
   "id": "b697aad1",
   "metadata": {},
   "source": [
    "### Problem 9\n",
    "Password validation."
   ]
  },
  {
   "cell_type": "code",
   "execution_count": null,
   "id": "e49bbe85",
   "metadata": {},
   "outputs": [],
   "source": [
    "\n",
    "def validate_password(pwd):\n",
    "    if len(pwd) < 8:\n",
    "        return False\n",
    "    if not any(char.isupper() for char in pwd):\n",
    "        return False\n",
    "    if not any(char.islower() for char in pwd):\n",
    "        return False\n",
    "    if not any(char.isdigit() for char in pwd):\n",
    "        return False\n",
    "    return True\n",
    "\n",
    "# Example usage:\n",
    "user_password = \"Test2021\"\n",
    "print(\"Is valid password:\", validate_password(user_password))\n"
   ]
  }
 ],
 "metadata": {},
 "nbformat": 4,
 "nbformat_minor": 5
}