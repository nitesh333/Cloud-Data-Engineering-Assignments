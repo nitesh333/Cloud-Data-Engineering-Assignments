{
 "cells": [
  {
   "cell_type": "markdown",
   "id": "4a7091ad",
   "metadata": {},
   "source": [
    "# Assignment 05 (Loops) — Complete Solutions\n",
    "This notebook contains clear, well‑commented Python solutions to all 15 problems from your assignment. Each task has its own section with runnable code.\n",
    "\n",
    "**Tip:** Run cells one by one. For tasks that prompt for input, enter the requested value(s) in the input box that appears."
   ]
  },
  {
   "cell_type": "markdown",
   "id": "51ec2700",
   "metadata": {},
   "source": [
    "## 1) Print numbers 1 to 10 (for loop)"
   ]
  },
  {
   "cell_type": "code",
   "execution_count": null,
   "id": "86c5495e",
   "metadata": {},
   "outputs": [],
   "source": [
    "# Prints numbers from 1 to 10 using a for loop\n",
    "for i in range(1, 11):\n",
    "    print(i)"
   ]
  },
  {
   "cell_type": "markdown",
   "id": "c2bb21f9",
   "metadata": {},
   "source": [
    "## 2) Print numbers 20 down to 1 (while loop)"
   ]
  },
  {
   "cell_type": "code",
   "execution_count": null,
   "id": "befb3d0d",
   "metadata": {},
   "outputs": [],
   "source": [
    "# Prints numbers from 20 down to 1 using a while loop\n",
    "i = 20\n",
    "while i >= 1:\n",
    "    print(i)\n",
    "    i -= 1"
   ]
  },
  {
   "cell_type": "markdown",
   "id": "eaa8cabc",
   "metadata": {},
   "source": [
    "## 3) Print even numbers from 1 to 10"
   ]
  },
  {
   "cell_type": "code",
   "execution_count": null,
   "id": "d0dcade0",
   "metadata": {},
   "outputs": [],
   "source": [
    "# Prints even numbers from 1 to 10\n",
    "for i in range(2, 11, 2):\n",
    "    print(i)"
   ]
  },
  {
   "cell_type": "markdown",
   "id": "30016b50",
   "metadata": {},
   "source": [
    "## 4) Print numbers from 1 to n (user input)"
   ]
  },
  {
   "cell_type": "code",
   "execution_count": null,
   "id": "0f744456",
   "metadata": {},
   "outputs": [],
   "source": [
    "# Prompts the user to enter a number n and prints numbers from 1 to n\n",
    "try:\n",
    "    n = int(input(\"Enter a number n: \"))\n",
    "    if n >= 1:\n",
    "        for i in range(1, n + 1):\n",
    "            print(i)\n",
    "    else:\n",
    "        print(\"Please enter an integer >= 1.\")\n",
    "except ValueError:\n",
    "    print(\"Invalid input. Please enter an integer.\")"
   ]
  },
  {
   "cell_type": "markdown",
   "id": "5f7c06c8",
   "metadata": {},
   "source": [
    "## 5) Print odd numbers between 1 and n (user input)"
   ]
  },
  {
   "cell_type": "code",
   "execution_count": null,
   "id": "c057051d",
   "metadata": {},
   "outputs": [],
   "source": [
    "# Prompts the user to enter a number n and prints odd numbers between 1 and n (inclusive)\n",
    "try:\n",
    "    n = int(input(\"Enter a number n: \"))\n",
    "    if n >= 1:\n",
    "        # Start from 1, step by 2\n",
    "        for i in range(1, n + 1, 2):\n",
    "            print(i)\n",
    "    else:\n",
    "        print(\"Please enter an integer >= 1.\")\n",
    "except ValueError:\n",
    "    print(\"Invalid input. Please enter an integer.\")"
   ]
  },
  {
   "cell_type": "markdown",
   "id": "6dcd80e5",
   "metadata": {},
   "source": [
    "## 6) Print 'Happy Birthday!' five times"
   ]
  },
  {
   "cell_type": "code",
   "execution_count": null,
   "id": "d3350fa5",
   "metadata": {},
   "outputs": [],
   "source": [
    "# Prints 'Happy Birthday!' five times\n",
    "for _ in range(5):\n",
    "    print(\"Happy Birthday!\")"
   ]
  },
  {
   "cell_type": "markdown",
   "id": "996ee113",
   "metadata": {},
   "source": [
    "## 7) First n terms of the series of squares (1², 2², 3², ...)"
   ]
  },
  {
   "cell_type": "code",
   "execution_count": null,
   "id": "5e47f4da",
   "metadata": {},
   "outputs": [],
   "source": [
    "# Takes n and prints the first n square numbers\n",
    "try:\n",
    "    n = int(input(\"Enter a number: \"))\n",
    "    if n >= 1:\n",
    "        squares = []\n",
    "        for i in range(1, n + 1):\n",
    "            squares.append(i * i)\n",
    "        print(f\"The first {n} terms of the series are:\")\n",
    "        print(*squares)\n",
    "    else:\n",
    "        print(\"Please enter an integer >= 1.\")\n",
    "except ValueError:\n",
    "    print(\"Invalid input. Please enter an integer.\")"
   ]
  },
  {
   "cell_type": "markdown",
   "id": "edb084f0",
   "metadata": {},
   "source": [
    "## 8) Multiplication table (user input)"
   ]
  },
  {
   "cell_type": "code",
   "execution_count": null,
   "id": "eb9f3ddb",
   "metadata": {},
   "outputs": [],
   "source": [
    "# Prompts the user to input a number and prints its multiplication table (1 to 10)\n",
    "try:\n",
    "    num = float(input(\"Enter a number for its multiplication table: \"))\n",
    "    upto = 10\n",
    "    for i in range(1, upto + 1):\n",
    "        print(f\"{num} x {i} = {num * i}\")\n",
    "except ValueError:\n",
    "    print(\"Invalid input. Please enter a valid number.\")"
   ]
  },
  {
   "cell_type": "markdown",
   "id": "2be17a23",
   "metadata": {},
   "source": [
    "## 9) First 8 terms of an arithmetic progression (start=3, difference=4)"
   ]
  },
  {
   "cell_type": "code",
   "execution_count": null,
   "id": "b44ea46c",
   "metadata": {},
   "outputs": [],
   "source": [
    "# Prints the first 8 terms of an AP with first term a=3 and common difference d=4\n",
    "a, d, n_terms = 3, 4, 8\n",
    "ap_terms = []\n",
    "term = a\n",
    "for _ in range(n_terms):\n",
    "    ap_terms.append(term)\n",
    "    term += d\n",
    "print(*ap_terms)"
   ]
  },
  {
   "cell_type": "markdown",
   "id": "beaad481",
   "metadata": {},
   "source": [
    "## 10) First 6 terms of a geometric sequence (start=2, ratio=3)"
   ]
  },
  {
   "cell_type": "code",
   "execution_count": null,
   "id": "f5027016",
   "metadata": {},
   "outputs": [],
   "source": [
    "# Prints the first 6 terms of a GP with first term a=2 and common ratio r=3\n",
    "a, r, n_terms = 2, 3, 6\n",
    "gp_terms = []\n",
    "term = a\n",
    "for _ in range(n_terms):\n",
    "    gp_terms.append(term)\n",
    "    term *= r\n",
    "print(*gp_terms)"
   ]
  },
  {
   "cell_type": "markdown",
   "id": "e8034fd7",
   "metadata": {},
   "source": [
    "## 11) Sum of integers from 1 to n (user input)"
   ]
  },
  {
   "cell_type": "code",
   "execution_count": null,
   "id": "7fbf3cbd",
   "metadata": {},
   "outputs": [],
   "source": [
    "# Asks the user for a positive integer and calculates the sum from 1 to n\n",
    "try:\n",
    "    n = int(input(\"Enter a positive integer: \"))\n",
    "    if n >= 1:\n",
    "        total = 0\n",
    "        for i in range(1, n + 1):\n",
    "            total += i\n",
    "        print(f\"The sum from 1 to {n} is: {total}\")\n",
    "    else:\n",
    "        print(\"Please enter an integer >= 1.\")\n",
    "except ValueError:\n",
    "    print(\"Invalid input. Please enter an integer.\")"
   ]
  },
  {
   "cell_type": "markdown",
   "id": "2ef5ef88",
   "metadata": {},
   "source": [
    "## 12) Sum of reciprocals from 1 to N (user input)"
   ]
  },
  {
   "cell_type": "code",
   "execution_count": null,
   "id": "a49c07b5",
   "metadata": {},
   "outputs": [],
   "source": [
    "# Takes a positive integer N and calculates the sum of reciprocals 1 + 1/2 + ... + 1/N\n",
    "try:\n",
    "    N = int(input(\"Enter a positive integer: \"))\n",
    "    if N >= 1:\n",
    "        s = 0.0\n",
    "        for i in range(1, N + 1):\n",
    "            s += 1.0 / i\n",
    "        print(f\"The sum of reciprocals from 1 to {N} is: {s:.2f}\")\n",
    "    else:\n",
    "        print(\"Please enter an integer >= 1.\")\n",
    "except ValueError:\n",
    "    print(\"Invalid input. Please enter an integer.\")"
   ]
  },
  {
   "cell_type": "markdown",
   "id": "65c5bc5a",
   "metadata": {},
   "source": [
    "## 13) Running total of 5 user-entered numbers"
   ]
  },
  {
   "cell_type": "code",
   "execution_count": null,
   "id": "a6fbe195",
   "metadata": {},
   "outputs": [],
   "source": [
    "# Prompts the user to enter a number 5 times and prints the final running total\n",
    "total = 0.0\n",
    "count = 5\n",
    "for i in range(1, count + 1):\n",
    "    while True:\n",
    "        try:\n",
    "            x = float(input(f\"Enter a number ({i}/{count}): \"))\n",
    "            total += x\n",
    "            break\n",
    "        except ValueError:\n",
    "            print(\"Invalid input. Please enter a number.\")\n",
    "print(f\"The final running total is: {total}\")"
   ]
  },
  {
   "cell_type": "markdown",
   "id": "e05a1d80",
   "metadata": {},
   "source": [
    "## 14) Factorial of a positive integer (user input)"
   ]
  },
  {
   "cell_type": "code",
   "execution_count": null,
   "id": "37bbab42",
   "metadata": {},
   "outputs": [],
   "source": [
    "# Calculates the factorial of a given non-negative integer\n",
    "try:\n",
    "    n = int(input(\"Enter a non-negative integer: \"))\n",
    "    if n < 0:\n",
    "        print(\"Factorial does not exist for negative numbers.\")\n",
    "    elif n == 0:\n",
    "        print(\"The factorial of 0 is 1.\")\n",
    "    else:\n",
    "        fact = 1\n",
    "        for i in range(1, n + 1):\n",
    "            fact *= i\n",
    "        print(f\"The factorial of {n} is {fact}.\")\n",
    "except ValueError:\n",
    "    print(\"Invalid input. Please enter an integer.\")"
   ]
  },
  {
   "cell_type": "markdown",
   "id": "2a316b96",
   "metadata": {},
   "source": [
    "## 15) Power without using `**` or `math.pow()` (handles negative exponents)"
   ]
  },
  {
   "cell_type": "code",
   "execution_count": null,
   "id": "7c72e988",
   "metadata": {},
   "outputs": [],
   "source": [
    "# Prompts for a base and an integer exponent; computes base^exponent without using ** or math.pow()\n",
    "try:\n",
    "    base = float(input(\"Enter the base: \"))\n",
    "    exp = int(input(\"Enter the exponent (integer, can be negative): \"))\n",
    "    \n",
    "    # Edge case: 0 to a negative exponent is undefined (division by zero)\n",
    "    if base == 0 and exp < 0:\n",
    "        print(\"Undefined: 0 cannot be raised to a negative exponent.\")\n",
    "    else:\n",
    "        # Compute absolute exponent by repeated multiplication\n",
    "        abs_exp = -exp if exp < 0 else exp\n",
    "        result = 1.0\n",
    "        for _ in range(abs_exp):\n",
    "            result *= base\n",
    "        \n",
    "        # If exponent is negative, take reciprocal\n",
    "        if exp < 0:\n",
    "            result = 1.0 / result\n",
    "        \n",
    "        print(f\"{base} to the power {exp} is: {result}\")\n",
    "except ValueError:\n",
    "    print(\"Invalid input. Please enter numeric base and integer exponent.\")"
   ]
  }
 ],
 "metadata": {},
 "nbformat": 4,
 "nbformat_minor": 5
}
